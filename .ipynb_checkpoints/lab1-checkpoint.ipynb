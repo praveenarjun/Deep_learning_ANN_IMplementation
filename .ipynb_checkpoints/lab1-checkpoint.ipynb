{
 "cells": [
  {
   "cell_type": "code",
   "execution_count": 19,
   "id": "initial_id",
   "metadata": {
    "ExecuteTime": {
     "end_time": "2024-08-10T04:21:08.525349Z",
     "start_time": "2024-08-10T04:21:08.368863Z"
    },
    "collapsed": true
   },
   "outputs": [],
   "source": [
    "import numpy as np\n",
    "B_data = np.load('cnnASdata.npy',allow_pickle=True)\n",
    "D_data = np.load('cnnNdata.npy',allow_pickle=True)"
   ]
  },
  {
   "cell_type": "code",
   "execution_count": 20,
   "id": "e415af4361135c20",
   "metadata": {
    "ExecuteTime": {
     "end_time": "2024-08-10T04:21:10.617743Z",
     "start_time": "2024-08-10T04:21:10.544776Z"
    }
   },
   "outputs": [],
   "source": [
    "# Combine the two files into a single dataset\n",
    "X_data = np.concatenate((B_data, D_data), axis=0)"
   ]
  },
  {
   "cell_type": "code",
   "execution_count": 21,
   "id": "53443b6d4e0013ad",
   "metadata": {
    "ExecuteTime": {
     "end_time": "2024-08-10T04:21:12.690218Z",
     "start_time": "2024-08-10T04:21:12.574223Z"
    }
   },
   "outputs": [],
   "source": [
    "def augtime(xdatat):\n",
    "    X_data = []\n",
    "    for i in range(len(xdatat)):\n",
    "        if len(xdatat[i]) < 20000:\n",
    "            tem = np.append(xdatat[i], xdatat[i][0:(20000 - len(xdatat[i]))])\n",
    "            while len(tem) < 20000:\n",
    "                tem = np.append(tem, xdatat[i][0:(20000 - len(tem))])\n",
    "        else:\n",
    "            tem = xdatat[i]\n",
    "        X_data.append(tem)\n",
    "    return np.array(X_data)\n",
    "\n",
    "# Apply the preprocessing function\n",
    "X_data = augtime(X_data)"
   ]
  },
  {
   "cell_type": "code",
   "execution_count": 6,
   "id": "3bac462adad46ab6",
   "metadata": {
    "ExecuteTime": {
     "end_time": "2024-08-10T03:51:56.610572Z",
     "start_time": "2024-08-10T03:51:56.584971Z"
    }
   },
   "outputs": [],
   "source": [
    "# Generate Y_data for classification\n",
    "Y_data = [0] * 200 + [1] * 200\n",
    "Y_data = np.array(Y_data)"
   ]
  },
  {
   "cell_type": "code",
   "execution_count": 15,
   "id": "a7c191b7a35a3b00",
   "metadata": {
    "ExecuteTime": {
     "end_time": "2024-08-10T04:19:14.542784Z",
     "start_time": "2024-08-10T04:19:14.269703Z"
    }
   },
   "outputs": [],
   "source": [
    "from sklearn.model_selection import train_test_split\n",
    "\n",
    "# Divide the dataset into training and testing sets\n",
    "Z_train, Z_test, y_train, y_test = train_test_split(X_data, Y_data, test_size=0.2, random_state=42)"
   ]
  },
  {
   "cell_type": "code",
   "execution_count": 16,
   "id": "b639f8a64809af07",
   "metadata": {
    "ExecuteTime": {
     "end_time": "2024-08-10T04:19:16.431904Z",
     "start_time": "2024-08-10T04:19:16.148583Z"
    }
   },
   "outputs": [],
   "source": [
    "from keras.models import Sequential\n",
    "from keras.layers import Dense\n",
    "from tensorflow.keras.optimizers.legacy import Adam\n",
    "\n",
    "# Design and implement an ANN model with a minimum of 5 layers\n",
    "model = Sequential()\n",
    "model.add(Dense(128, input_dim=Z_train.shape[1], activation='relu'))\n",
    "model.add(Dense(64, activation='relu'))\n",
    "model.add(Dense(32, activation='relu'))\n",
    "model.add(Dense(16, activation='relu'))\n",
    "model.add(Dense(8, activation='relu'))\n",
    "model.add(Dense(1, activation='sigmoid'))\n",
    "\n",
    "# Compile the model using the legacy Adam optimizer\n",
    "model.compile(optimizer=Adam(learning_rate=0.001), loss='binary_crossentropy', metrics=['accuracy'])"
   ]
  },
  {
   "cell_type": "code",
   "execution_count": 17,
   "id": "6900b331ca06a6ec",
   "metadata": {
    "ExecuteTime": {
     "end_time": "2024-08-10T04:19:29.712372Z",
     "start_time": "2024-08-10T04:19:18.964420Z"
    }
   },
   "outputs": [
    {
     "name": "stdout",
     "output_type": "stream",
     "text": [
      "Epoch 1/10\n",
      "8/8 [==============================] - 1s 39ms/step - loss: 572.0378 - accuracy: 0.6016 - val_loss: 718.6755 - val_accuracy: 0.6250\n",
      "Epoch 2/10\n",
      "8/8 [==============================] - 0s 18ms/step - loss: 221.4079 - accuracy: 0.8008 - val_loss: 213.9640 - val_accuracy: 0.7344\n",
      "Epoch 3/10\n",
      "8/8 [==============================] - 0s 29ms/step - loss: 37.0199 - accuracy: 0.8789 - val_loss: 96.5807 - val_accuracy: 0.7812\n",
      "Epoch 4/10\n",
      "8/8 [==============================] - 0s 25ms/step - loss: 44.4107 - accuracy: 0.8750 - val_loss: 159.4510 - val_accuracy: 0.7344\n",
      "Epoch 5/10\n",
      "8/8 [==============================] - 0s 26ms/step - loss: 41.0413 - accuracy: 0.8867 - val_loss: 181.3826 - val_accuracy: 0.7344\n",
      "Epoch 6/10\n",
      "8/8 [==============================] - 0s 23ms/step - loss: 7.0071 - accuracy: 0.8711 - val_loss: 180.1737 - val_accuracy: 0.7656\n",
      "Epoch 7/10\n",
      "8/8 [==============================] - 0s 17ms/step - loss: 0.3252 - accuracy: 0.8984 - val_loss: 137.1319 - val_accuracy: 0.7812\n",
      "Epoch 8/10\n",
      "8/8 [==============================] - 0s 17ms/step - loss: 6.8977 - accuracy: 0.8867 - val_loss: 114.1095 - val_accuracy: 0.7969\n",
      "Epoch 9/10\n",
      "8/8 [==============================] - 0s 16ms/step - loss: 3.2026 - accuracy: 0.8633 - val_loss: 131.2387 - val_accuracy: 0.8125\n",
      "Epoch 10/10\n",
      "8/8 [==============================] - 0s 13ms/step - loss: 5.5746 - accuracy: 0.9062 - val_loss: 172.1895 - val_accuracy: 0.7969\n",
      "Epoch 1/50\n",
      "8/8 [==============================] - 0s 21ms/step - loss: 0.1059 - accuracy: 0.9297 - val_loss: 216.7173 - val_accuracy: 0.7500\n",
      "Epoch 2/50\n",
      "8/8 [==============================] - 0s 15ms/step - loss: 0.1029 - accuracy: 0.9258 - val_loss: 256.1113 - val_accuracy: 0.7344\n",
      "Epoch 3/50\n",
      "8/8 [==============================] - 0s 14ms/step - loss: 2.4547 - accuracy: 0.9062 - val_loss: 189.8875 - val_accuracy: 0.7656\n",
      "Epoch 4/50\n",
      "8/8 [==============================] - 0s 19ms/step - loss: 0.1218 - accuracy: 0.9180 - val_loss: 176.0035 - val_accuracy: 0.7812\n",
      "Epoch 5/50\n",
      "8/8 [==============================] - 0s 20ms/step - loss: 2.2857 - accuracy: 0.9141 - val_loss: 177.4333 - val_accuracy: 0.7812\n",
      "Epoch 6/50\n",
      "8/8 [==============================] - 0s 17ms/step - loss: 0.2040 - accuracy: 0.9141 - val_loss: 190.7151 - val_accuracy: 0.7812\n",
      "Epoch 7/50\n",
      "8/8 [==============================] - 0s 17ms/step - loss: 11.3856 - accuracy: 0.8945 - val_loss: 208.5060 - val_accuracy: 0.7812\n",
      "Epoch 8/50\n",
      "8/8 [==============================] - 0s 14ms/step - loss: 2.5728 - accuracy: 0.9219 - val_loss: 139.9028 - val_accuracy: 0.7656\n",
      "Epoch 9/50\n",
      "8/8 [==============================] - 0s 15ms/step - loss: 0.4457 - accuracy: 0.9531 - val_loss: 111.4084 - val_accuracy: 0.8125\n",
      "Epoch 10/50\n",
      "8/8 [==============================] - 0s 15ms/step - loss: 7.0569 - accuracy: 0.9570 - val_loss: 123.9378 - val_accuracy: 0.7812\n",
      "Epoch 11/50\n",
      "8/8 [==============================] - 0s 14ms/step - loss: 0.1580 - accuracy: 0.9570 - val_loss: 230.4771 - val_accuracy: 0.7812\n",
      "Epoch 12/50\n",
      "8/8 [==============================] - 0s 19ms/step - loss: 19.1292 - accuracy: 0.9414 - val_loss: 136.4511 - val_accuracy: 0.7656\n",
      "Epoch 13/50\n",
      "8/8 [==============================] - 0s 19ms/step - loss: 8.3435 - accuracy: 0.9453 - val_loss: 141.7500 - val_accuracy: 0.7812\n",
      "Epoch 14/50\n",
      "8/8 [==============================] - 0s 16ms/step - loss: 4.4450 - accuracy: 0.9492 - val_loss: 137.1916 - val_accuracy: 0.7812\n",
      "Epoch 15/50\n",
      "8/8 [==============================] - 0s 22ms/step - loss: 11.9584 - accuracy: 0.9492 - val_loss: 123.8161 - val_accuracy: 0.7969\n",
      "Epoch 16/50\n",
      "8/8 [==============================] - 0s 21ms/step - loss: 3.4917 - accuracy: 0.9609 - val_loss: 121.2825 - val_accuracy: 0.8125\n",
      "Epoch 17/50\n",
      "8/8 [==============================] - 0s 20ms/step - loss: 3.5291 - accuracy: 0.9570 - val_loss: 179.9516 - val_accuracy: 0.7969\n",
      "Epoch 18/50\n",
      "8/8 [==============================] - 0s 24ms/step - loss: 5.0630 - accuracy: 0.9414 - val_loss: 169.3396 - val_accuracy: 0.8125\n",
      "Epoch 19/50\n",
      "8/8 [==============================] - 0s 21ms/step - loss: 1.8783 - accuracy: 0.9570 - val_loss: 154.3356 - val_accuracy: 0.8281\n",
      "Epoch 20/50\n",
      "8/8 [==============================] - 0s 20ms/step - loss: 1.0810 - accuracy: 0.9570 - val_loss: 158.6383 - val_accuracy: 0.8281\n",
      "Epoch 21/50\n",
      "8/8 [==============================] - 0s 23ms/step - loss: 3.4944 - accuracy: 0.9531 - val_loss: 133.2907 - val_accuracy: 0.8125\n",
      "Epoch 22/50\n",
      "8/8 [==============================] - 0s 19ms/step - loss: 0.1015 - accuracy: 0.9609 - val_loss: 63.4263 - val_accuracy: 0.7969\n",
      "Epoch 23/50\n",
      "8/8 [==============================] - 0s 25ms/step - loss: 0.1593 - accuracy: 0.9570 - val_loss: 31.3489 - val_accuracy: 0.7969\n",
      "Epoch 24/50\n",
      "8/8 [==============================] - 0s 19ms/step - loss: 0.0987 - accuracy: 0.9609 - val_loss: 22.6372 - val_accuracy: 0.7969\n",
      "Epoch 25/50\n",
      "8/8 [==============================] - 0s 18ms/step - loss: 0.0932 - accuracy: 0.9609 - val_loss: 21.4582 - val_accuracy: 0.7969\n",
      "Epoch 26/50\n",
      "8/8 [==============================] - 0s 20ms/step - loss: 0.0930 - accuracy: 0.9609 - val_loss: 21.1118 - val_accuracy: 0.7812\n",
      "Epoch 27/50\n",
      "8/8 [==============================] - 0s 21ms/step - loss: 0.0929 - accuracy: 0.9609 - val_loss: 23.5375 - val_accuracy: 0.7812\n",
      "Epoch 28/50\n",
      "8/8 [==============================] - 0s 27ms/step - loss: 0.0928 - accuracy: 0.9609 - val_loss: 24.5986 - val_accuracy: 0.7812\n",
      "Epoch 29/50\n",
      "8/8 [==============================] - 0s 19ms/step - loss: 0.0926 - accuracy: 0.9609 - val_loss: 25.0627 - val_accuracy: 0.7812\n",
      "Epoch 30/50\n",
      "8/8 [==============================] - 0s 21ms/step - loss: 0.0925 - accuracy: 0.9609 - val_loss: 25.2659 - val_accuracy: 0.7812\n",
      "Epoch 31/50\n",
      "8/8 [==============================] - 0s 23ms/step - loss: 0.0924 - accuracy: 0.9609 - val_loss: 25.3546 - val_accuracy: 0.7812\n",
      "Epoch 32/50\n",
      "8/8 [==============================] - 0s 26ms/step - loss: 0.0923 - accuracy: 0.9609 - val_loss: 25.3935 - val_accuracy: 0.7812\n",
      "Epoch 33/50\n",
      "8/8 [==============================] - 0s 21ms/step - loss: 0.0922 - accuracy: 0.9609 - val_loss: 25.4106 - val_accuracy: 0.7812\n",
      "Epoch 34/50\n",
      "8/8 [==============================] - 0s 22ms/step - loss: 0.0920 - accuracy: 0.9609 - val_loss: 25.4181 - val_accuracy: 0.7812\n",
      "Epoch 35/50\n",
      "8/8 [==============================] - 0s 23ms/step - loss: 0.0919 - accuracy: 0.9609 - val_loss: 25.4214 - val_accuracy: 0.7812\n",
      "Epoch 36/50\n",
      "8/8 [==============================] - 0s 20ms/step - loss: 0.0918 - accuracy: 0.9609 - val_loss: 25.4227 - val_accuracy: 0.7812\n",
      "Epoch 37/50\n",
      "8/8 [==============================] - 0s 31ms/step - loss: 0.0917 - accuracy: 0.9609 - val_loss: 25.4233 - val_accuracy: 0.7812\n",
      "Epoch 38/50\n",
      "8/8 [==============================] - 0s 43ms/step - loss: 0.0915 - accuracy: 0.9609 - val_loss: 25.4237 - val_accuracy: 0.7812\n",
      "Epoch 39/50\n",
      "8/8 [==============================] - 0s 37ms/step - loss: 0.0915 - accuracy: 0.9609 - val_loss: 25.4242 - val_accuracy: 0.7812\n",
      "Epoch 40/50\n",
      "8/8 [==============================] - 0s 21ms/step - loss: 0.0913 - accuracy: 0.9609 - val_loss: 25.4244 - val_accuracy: 0.7812\n",
      "Epoch 41/50\n",
      "8/8 [==============================] - 0s 22ms/step - loss: 0.0912 - accuracy: 0.9609 - val_loss: 25.4247 - val_accuracy: 0.7812\n",
      "Epoch 42/50\n",
      "8/8 [==============================] - 0s 19ms/step - loss: 0.0911 - accuracy: 0.9609 - val_loss: 25.4250 - val_accuracy: 0.7812\n",
      "Epoch 43/50\n",
      "8/8 [==============================] - 0s 18ms/step - loss: 0.0910 - accuracy: 0.9609 - val_loss: 25.4253 - val_accuracy: 0.7812\n",
      "Epoch 44/50\n",
      "8/8 [==============================] - 0s 19ms/step - loss: 0.0908 - accuracy: 0.9609 - val_loss: 25.4255 - val_accuracy: 0.7812\n",
      "Epoch 45/50\n",
      "8/8 [==============================] - 0s 18ms/step - loss: 0.0907 - accuracy: 0.9609 - val_loss: 25.4258 - val_accuracy: 0.7812\n",
      "Epoch 46/50\n",
      "8/8 [==============================] - 0s 23ms/step - loss: 0.0906 - accuracy: 0.9609 - val_loss: 25.4261 - val_accuracy: 0.7812\n",
      "Epoch 47/50\n",
      "8/8 [==============================] - 0s 20ms/step - loss: 0.0905 - accuracy: 0.9609 - val_loss: 25.4264 - val_accuracy: 0.7812\n",
      "Epoch 48/50\n",
      "8/8 [==============================] - 0s 18ms/step - loss: 0.0904 - accuracy: 0.9609 - val_loss: 25.4267 - val_accuracy: 0.7812\n",
      "Epoch 49/50\n",
      "8/8 [==============================] - 0s 17ms/step - loss: 0.0903 - accuracy: 0.9609 - val_loss: 25.4269 - val_accuracy: 0.7812\n",
      "Epoch 50/50\n",
      "8/8 [==============================] - 0s 14ms/step - loss: 0.0902 - accuracy: 0.9609 - val_loss: 25.4272 - val_accuracy: 0.7812\n"
     ]
    },
    {
     "data": {
      "text/plain": [
       "<keras.src.callbacks.History at 0x31d3e3f10>"
      ]
     },
     "execution_count": 17,
     "metadata": {},
     "output_type": "execute_result"
    }
   ],
   "source": [
    "# Train the model for 10 epochs\n",
    "model.fit(Z_train, y_train, epochs=10, batch_size=32, validation_split=0.2)\n",
    "\n",
    "# Train the model for 50 epochs\n",
    "model.fit(Z_train, y_train, epochs=50, batch_size=32, validation_split=0.2)"
   ]
  },
  {
   "cell_type": "markdown",
   "id": "f79a3ceaed3ea3fe",
   "metadata": {},
   "source": [
    "# Saving\n"
   ]
  },
  {
   "cell_type": "code",
   "execution_count": 12,
   "id": "77fd8cf2947e3d6f",
   "metadata": {
    "ExecuteTime": {
     "end_time": "2024-08-10T04:14:45.644387Z",
     "start_time": "2024-08-10T04:14:44.635023Z"
    }
   },
   "outputs": [],
   "source": [
    "model.save('cardiac_signal_model.keras')"
   ]
  },
  {
   "cell_type": "markdown",
   "id": "984eb112109e5421",
   "metadata": {},
   "source": [
    "# Evalution Model"
   ]
  },
  {
   "cell_type": "code",
   "execution_count": 18,
   "id": "6b930162eddb184c",
   "metadata": {
    "ExecuteTime": {
     "end_time": "2024-08-10T04:19:48.604189Z",
     "start_time": "2024-08-10T04:19:48.326323Z"
    }
   },
   "outputs": [
    {
     "name": "stdout",
     "output_type": "stream",
     "text": [
      "3/3 [==============================] - 0s 3ms/step\n",
      "Confusion Matrix:\n",
      "[[31 13]\n",
      " [ 2 34]]\n",
      "Precision: 0.7234\n",
      "Recall: 0.9444\n",
      "Accuracy: 0.8125\n"
     ]
    }
   ],
   "source": [
    "from sklearn.metrics import confusion_matrix, precision_score, recall_score, accuracy_score\n",
    "\n",
    "# Evaluate the model\n",
    "y_pred = (model.predict(Z_test) > 0.5).astype(int)\n",
    "\n",
    "# Generate a confusion matrix\n",
    "conf_matrix = confusion_matrix(y_test, y_pred)\n",
    "\n",
    "# Calculate precision, recall, and accuracy\n",
    "precision = precision_score(y_test, y_pred)\n",
    "recall = recall_score(y_test, y_pred)\n",
    "accuracy = accuracy_score(y_test, y_pred)\n",
    "\n",
    "print(f'Confusion Matrix:\\n{conf_matrix}')\n",
    "print(f'Precision: {precision:.4f}')\n",
    "print(f'Recall: {recall:.4f}')\n",
    "print(f'Accuracy: {accuracy:.4f}')"
   ]
  },
  {
   "cell_type": "code",
   "execution_count": null,
   "id": "6c5edc4de2dcd1d2",
   "metadata": {},
   "outputs": [],
   "source": []
  }
 ],
 "metadata": {
  "kernelspec": {
   "display_name": "Python 3 (ipykernel)",
   "language": "python",
   "name": "python3"
  },
  "language_info": {
   "codemirror_mode": {
    "name": "ipython",
    "version": 3
   },
   "file_extension": ".py",
   "mimetype": "text/x-python",
   "name": "python",
   "nbconvert_exporter": "python",
   "pygments_lexer": "ipython3",
   "version": "3.11.3"
  }
 },
 "nbformat": 4,
 "nbformat_minor": 5
}
